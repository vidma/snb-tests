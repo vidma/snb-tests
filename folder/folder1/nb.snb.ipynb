{
  "metadata" : {
    "id" : "9d46113d-ea72-4977-b91e-0a4a07fd6d6d",
    "name" : "nb",
    "user_save_timestamp" : "1970-01-01T03:00:00.000Z",
    "auto_save_timestamp" : "1970-01-01T03:00:00.000Z",
    "language_info" : {
      "name" : "scala",
      "file_extension" : "scala",
      "codemirror_mode" : "text/x-scala"
    },
    "trusted" : true,
    "sparkNotebook" : null,
    "customLocalRepo" : null,
    "customRepos" : null,
    "customDeps" : null,
    "customImports" : null,
    "customArgs" : null,
    "customSparkConf" : null,
    "customVars" : null
  },
  "cells" : [
    {
      "metadata" : {
        "trusted" : true,
        "input_collapsed" : false,
        "collapsed" : true,
        "id" : "878A639258EE49C48741EB22A44C244B"
      },
      "cell_type" : "code",
      "source" : [
        "println(\"a\")\n"
      ],
      "outputs" : [ ]
    }
  ],
  "nbformat" : 4
}