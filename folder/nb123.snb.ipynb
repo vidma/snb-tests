{
  "metadata" : {
    "id" : "62f207d8-f7cd-4687-a217-563d96470404",
    "name" : "nb123",
    "user_save_timestamp" : "1970-01-01T03:00:00.000Z",
    "auto_save_timestamp" : "1970-01-01T03:00:00.000Z",
    "language_info" : {
      "name" : "scala",
      "file_extension" : "scala",
      "codemirror_mode" : "text/x-scala"
    },
    "trusted" : true,
    "sparkNotebook" : null,
    "customLocalRepo" : null,
    "customRepos" : null,
    "customDeps" : null,
    "customImports" : null,
    "customArgs" : null,
    "customSparkConf" : null,
    "customVars" : null
  },
  "cells" : [
    {
      "metadata" : {
        "trusted" : true,
        "input_collapsed" : false,
        "collapsed" : true,
        "id" : "EDF8B54C0C934DB38A40C5D86D2F0C65"
      },
      "cell_type" : "code",
      "source" : [
        "println(\"a\")"
      ],
      "outputs" : [ ]
    }
  ],
  "nbformat" : 4
}